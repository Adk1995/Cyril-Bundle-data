{
 "cells": [
  {
   "cell_type": "code",
   "execution_count": 1,
   "metadata": {},
   "outputs": [],
   "source": [
    "import pandas"
   ]
  },
  {
   "cell_type": "code",
   "execution_count": 42,
   "metadata": {},
   "outputs": [
    {
     "data": {
      "text/plain": [
       "(671, 5)"
      ]
     },
     "execution_count": 42,
     "metadata": {},
     "output_type": "execute_result"
    }
   ],
   "source": [
    "url = \"data/data.xlsx\"\n",
    "df = pandas.read_excel(url,sheet_name = \"product data\")\n",
    "df_modified = df[['UPC','ID','Manufacturer','Brand','Product Description']].copy()\n",
    "df_modified['UPC'] = df_modified['UPC'].astype(str)\n",
    "df_modified = df_modified[df_modified['UPC'].map(len)<12]\n",
    "df_modified.head()\n",
    "df_modified.shape"
   ]
  },
  {
   "cell_type": "code",
   "execution_count": 35,
   "metadata": {},
   "outputs": [],
   "source": [
    "def split_UPC(upc_int):\n",
    "    df_modified['Company ID'] = df_modified['UPC'].str[0:5]\n",
    "    "
   ]
  },
  {
   "cell_type": "code",
   "execution_count": 36,
   "metadata": {},
   "outputs": [
    {
     "data": {
      "text/html": [
       "<div>\n",
       "<style scoped>\n",
       "    .dataframe tbody tr th:only-of-type {\n",
       "        vertical-align: middle;\n",
       "    }\n",
       "\n",
       "    .dataframe tbody tr th {\n",
       "        vertical-align: top;\n",
       "    }\n",
       "\n",
       "    .dataframe thead th {\n",
       "        text-align: right;\n",
       "    }\n",
       "</style>\n",
       "<table border=\"1\" class=\"dataframe\">\n",
       "  <thead>\n",
       "    <tr style=\"text-align: right;\">\n",
       "      <th></th>\n",
       "      <th>UPC</th>\n",
       "      <th>ID</th>\n",
       "      <th>Manufacturer</th>\n",
       "      <th>Brand</th>\n",
       "      <th>Product Description</th>\n",
       "      <th>Company ID</th>\n",
       "    </tr>\n",
       "  </thead>\n",
       "  <tbody>\n",
       "    <tr>\n",
       "      <th>0</th>\n",
       "      <td>208528800007</td>\n",
       "      <td>455229</td>\n",
       "      <td>Brunckhorst Co.</td>\n",
       "      <td>Boar's Head</td>\n",
       "      <td>Boar's Head Sliced White American Cheese - 120 CT</td>\n",
       "      <td>20852</td>\n",
       "    </tr>\n",
       "    <tr>\n",
       "      <th>1</th>\n",
       "      <td>208220500007</td>\n",
       "      <td>131</td>\n",
       "      <td>USDA Meat</td>\n",
       "      <td>USDA Meat</td>\n",
       "      <td>Pork Chops Bone-In Center Cut</td>\n",
       "      <td>20822</td>\n",
       "    </tr>\n",
       "    <tr>\n",
       "      <th>2</th>\n",
       "      <td>43000029220</td>\n",
       "      <td>243996</td>\n",
       "      <td>Kraft Foods, Inc.</td>\n",
       "      <td>Maxwell House</td>\n",
       "      <td>Maxwell House Ground Coffee The Original Roast...</td>\n",
       "      <td>43000</td>\n",
       "    </tr>\n",
       "    <tr>\n",
       "      <th>3</th>\n",
       "      <td>19600050308</td>\n",
       "      <td>402216</td>\n",
       "      <td>Pinnacle Foods Group LLC</td>\n",
       "      <td>Celeste</td>\n",
       "      <td>Celeste Pizza For One Original 4 Cheese</td>\n",
       "      <td>19600</td>\n",
       "    </tr>\n",
       "    <tr>\n",
       "      <th>4</th>\n",
       "      <td>41331037822</td>\n",
       "      <td>397371</td>\n",
       "      <td>Goya Foods, Inc.</td>\n",
       "      <td>Goya</td>\n",
       "      <td>Goya Sason Coriander &amp; Annatto Seasoning</td>\n",
       "      <td>41331</td>\n",
       "    </tr>\n",
       "  </tbody>\n",
       "</table>\n",
       "</div>"
      ],
      "text/plain": [
       "            UPC      ID              Manufacturer          Brand  \\\n",
       "0  208528800007  455229           Brunckhorst Co.    Boar's Head   \n",
       "1  208220500007     131                 USDA Meat      USDA Meat   \n",
       "2   43000029220  243996         Kraft Foods, Inc.  Maxwell House   \n",
       "3   19600050308  402216  Pinnacle Foods Group LLC        Celeste   \n",
       "4   41331037822  397371          Goya Foods, Inc.           Goya   \n",
       "\n",
       "                                 Product Description Company ID  \n",
       "0  Boar's Head Sliced White American Cheese - 120 CT      20852  \n",
       "1                      Pork Chops Bone-In Center Cut      20822  \n",
       "2  Maxwell House Ground Coffee The Original Roast...      43000  \n",
       "3            Celeste Pizza For One Original 4 Cheese      19600  \n",
       "4           Goya Sason Coriander & Annatto Seasoning      41331  "
      ]
     },
     "execution_count": 36,
     "metadata": {},
     "output_type": "execute_result"
    }
   ],
   "source": [
    "df_modified['UPC'].apply(split_UPC)\n",
    "df_modified.head()"
   ]
  },
  {
   "cell_type": "code",
   "execution_count": null,
   "metadata": {},
   "outputs": [],
   "source": []
  }
 ],
 "metadata": {
  "kernelspec": {
   "display_name": "Python 3",
   "language": "python",
   "name": "python3"
  },
  "language_info": {
   "codemirror_mode": {
    "name": "ipython",
    "version": 3
   },
   "file_extension": ".py",
   "mimetype": "text/x-python",
   "name": "python",
   "nbconvert_exporter": "python",
   "pygments_lexer": "ipython3",
   "version": "3.6.5"
  }
 },
 "nbformat": 4,
 "nbformat_minor": 2
}
